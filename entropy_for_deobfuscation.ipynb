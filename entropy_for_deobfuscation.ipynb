{
  "nbformat": 4,
  "nbformat_minor": 0,
  "metadata": {
    "colab": {
      "name": "entropy for deobfuscation.ipynb",
      "version": "0.3.2",
      "provenance": [],
      "include_colab_link": true
    },
    "language_info": {
      "codemirror_mode": {
        "name": "ipython",
        "version": 3
      },
      "file_extension": ".py",
      "mimetype": "text/x-python",
      "name": "python",
      "nbconvert_exporter": "python",
      "pygments_lexer": "ipython3",
      "version": "3.6.5"
    },
    "kernelspec": {
      "display_name": "Python 3",
      "language": "python",
      "name": "python3"
    }
  },
  "cells": [
    {
      "cell_type": "markdown",
      "metadata": {
        "id": "view-in-github",
        "colab_type": "text"
      },
      "source": [
        "<a href=\"https://colab.research.google.com/github/joshred83/Chapter9_1/blob/master/entropy_for_deobfuscation.ipynb\" target=\"_parent\"><img src=\"https://colab.research.google.com/assets/colab-badge.svg\" alt=\"Open In Colab\"/></a>"
      ]
    },
    {
      "cell_type": "code",
      "metadata": {
        "id": "ab_Y47Q8LXFl",
        "colab_type": "code",
        "colab": {}
      },
      "source": [
        "import pandas as pd\n",
        "import numpy as np"
      ],
      "execution_count": 0,
      "outputs": []
    },
    {
      "cell_type": "code",
      "metadata": {
        "id": "qslEMh_2LXFo",
        "colab_type": "code",
        "colab": {}
      },
      "source": [
        "data = pd.read_csv(\"MOCK_DATA.csv\")\n"
      ],
      "execution_count": 0,
      "outputs": []
    },
    {
      "cell_type": "markdown",
      "metadata": {
        "id": "gS0Kq8hKLXFq",
        "colab_type": "text"
      },
      "source": [
        "This is our mock data. It represents an email field, clustered by other criteria (id). Sorting the data will help illustrate how it's organized. "
      ]
    },
    {
      "cell_type": "markdown",
      "metadata": {
        "id": "WYpyO1LBLXFq",
        "colab_type": "text"
      },
      "source": [
        "# There are three types of clusters in this data set. \n",
        "\n",
        "1. clusters of random email addresses.\n",
        "2. clusters of a single email address repeated. \n",
        "3. clusters of a single email address employing known obfuscation patterns. \n",
        "\n",
        "The premise of this project is that clusters of obfuscated email addresses are inherently suspicious and worth closer scrutiny. \n"
      ]
    },
    {
      "cell_type": "markdown",
      "metadata": {
        "id": "YgjrD04dLXFr",
        "colab_type": "text"
      },
      "source": [
        "#The \"blue\" cluster represents the first type of cluster.\n"
      ]
    },
    {
      "cell_type": "code",
      "metadata": {
        "id": "7Ksr2uXTLXFs",
        "colab_type": "code",
        "outputId": "91cf5d23-dc29-47cf-cf6f-212f23d0fa96",
        "colab": {
          "base_uri": "https://localhost:8080/",
          "height": 514
        }
      },
      "source": [
        "data.set_index('id', inplace=True)\n",
        "data.sort_values(by='id', inplace=True)\n",
        "data.loc['blue']"
      ],
      "execution_count": 0,
      "outputs": [
        {
          "output_type": "execute_result",
          "data": {
            "text/html": [
              "<div>\n",
              "<style scoped>\n",
              "    .dataframe tbody tr th:only-of-type {\n",
              "        vertical-align: middle;\n",
              "    }\n",
              "\n",
              "    .dataframe tbody tr th {\n",
              "        vertical-align: top;\n",
              "    }\n",
              "\n",
              "    .dataframe thead th {\n",
              "        text-align: right;\n",
              "    }\n",
              "</style>\n",
              "<table border=\"1\" class=\"dataframe\">\n",
              "  <thead>\n",
              "    <tr style=\"text-align: right;\">\n",
              "      <th></th>\n",
              "      <th>email</th>\n",
              "    </tr>\n",
              "    <tr>\n",
              "      <th>id</th>\n",
              "      <th></th>\n",
              "    </tr>\n",
              "  </thead>\n",
              "  <tbody>\n",
              "    <tr>\n",
              "      <th>blue</th>\n",
              "      <td>parturient.montes@molestiedapibusligula.co.uk</td>\n",
              "    </tr>\n",
              "    <tr>\n",
              "      <th>blue</th>\n",
              "      <td>sed@infelisNulla.co.uk</td>\n",
              "    </tr>\n",
              "    <tr>\n",
              "      <th>blue</th>\n",
              "      <td>nibh.Donec@magnased.org</td>\n",
              "    </tr>\n",
              "    <tr>\n",
              "      <th>blue</th>\n",
              "      <td>dictum.eleifend.nunc@sagittis.org</td>\n",
              "    </tr>\n",
              "    <tr>\n",
              "      <th>blue</th>\n",
              "      <td>turpis@eleifendvitaeerat.co.uk</td>\n",
              "    </tr>\n",
              "    <tr>\n",
              "      <th>blue</th>\n",
              "      <td>auctor@pedeSuspendissedui.org</td>\n",
              "    </tr>\n",
              "    <tr>\n",
              "      <th>blue</th>\n",
              "      <td>aliquet.lobortis@etnuncQuisque.org</td>\n",
              "    </tr>\n",
              "    <tr>\n",
              "      <th>blue</th>\n",
              "      <td>Sed.neque.Sed@ametorci.org</td>\n",
              "    </tr>\n",
              "    <tr>\n",
              "      <th>blue</th>\n",
              "      <td>quam@sapien.net</td>\n",
              "    </tr>\n",
              "    <tr>\n",
              "      <th>blue</th>\n",
              "      <td>nec@consequatlectussit.co.uk</td>\n",
              "    </tr>\n",
              "    <tr>\n",
              "      <th>blue</th>\n",
              "      <td>sagittis@condimentumDonecat.edu</td>\n",
              "    </tr>\n",
              "    <tr>\n",
              "      <th>blue</th>\n",
              "      <td>enim.diam@eu.com</td>\n",
              "    </tr>\n",
              "    <tr>\n",
              "      <th>blue</th>\n",
              "      <td>nisl@lectus.net</td>\n",
              "    </tr>\n",
              "    <tr>\n",
              "      <th>blue</th>\n",
              "      <td>Sed.diam.lorem@Pellentesquehabitantmorbi.com</td>\n",
              "    </tr>\n",
              "  </tbody>\n",
              "</table>\n",
              "</div>"
            ],
            "text/plain": [
              "                                              email\n",
              "id                                                 \n",
              "blue  parturient.montes@molestiedapibusligula.co.uk\n",
              "blue                         sed@infelisNulla.co.uk\n",
              "blue                        nibh.Donec@magnased.org\n",
              "blue              dictum.eleifend.nunc@sagittis.org\n",
              "blue                 turpis@eleifendvitaeerat.co.uk\n",
              "blue                  auctor@pedeSuspendissedui.org\n",
              "blue             aliquet.lobortis@etnuncQuisque.org\n",
              "blue                     Sed.neque.Sed@ametorci.org\n",
              "blue                                quam@sapien.net\n",
              "blue                   nec@consequatlectussit.co.uk\n",
              "blue                sagittis@condimentumDonecat.edu\n",
              "blue                               enim.diam@eu.com\n",
              "blue                                nisl@lectus.net\n",
              "blue   Sed.diam.lorem@Pellentesquehabitantmorbi.com"
            ]
          },
          "metadata": {
            "tags": []
          },
          "execution_count": 5
        }
      ]
    },
    {
      "cell_type": "markdown",
      "metadata": {
        "id": "rdRh5HudLXFv",
        "colab_type": "text"
      },
      "source": [
        "# The \"cerulean\" cluster represents the second type of cluster. "
      ]
    },
    {
      "cell_type": "code",
      "metadata": {
        "id": "hbCZ45P6LXFw",
        "colab_type": "code",
        "outputId": "0fae190a-56c9-4479-f833-0a6ce8a8e7c3",
        "colab": {
          "base_uri": "https://localhost:8080/",
          "height": 297
        }
      },
      "source": [
        "data.loc['cerulean']"
      ],
      "execution_count": 0,
      "outputs": [
        {
          "output_type": "execute_result",
          "data": {
            "text/html": [
              "<div>\n",
              "<style scoped>\n",
              "    .dataframe tbody tr th:only-of-type {\n",
              "        vertical-align: middle;\n",
              "    }\n",
              "\n",
              "    .dataframe tbody tr th {\n",
              "        vertical-align: top;\n",
              "    }\n",
              "\n",
              "    .dataframe thead th {\n",
              "        text-align: right;\n",
              "    }\n",
              "</style>\n",
              "<table border=\"1\" class=\"dataframe\">\n",
              "  <thead>\n",
              "    <tr style=\"text-align: right;\">\n",
              "      <th></th>\n",
              "      <th>email</th>\n",
              "    </tr>\n",
              "    <tr>\n",
              "      <th>id</th>\n",
              "      <th></th>\n",
              "    </tr>\n",
              "  </thead>\n",
              "  <tbody>\n",
              "    <tr>\n",
              "      <th>cerulean</th>\n",
              "      <td>legittaxguy@taxguy.com</td>\n",
              "    </tr>\n",
              "    <tr>\n",
              "      <th>cerulean</th>\n",
              "      <td>legittaxguy@taxguy.com</td>\n",
              "    </tr>\n",
              "    <tr>\n",
              "      <th>cerulean</th>\n",
              "      <td>legittaxguy@taxguy.com</td>\n",
              "    </tr>\n",
              "    <tr>\n",
              "      <th>cerulean</th>\n",
              "      <td>legittaxguy@taxguy.com</td>\n",
              "    </tr>\n",
              "    <tr>\n",
              "      <th>cerulean</th>\n",
              "      <td>legittaxguy@taxguy.com</td>\n",
              "    </tr>\n",
              "    <tr>\n",
              "      <th>cerulean</th>\n",
              "      <td>legittaxguy@taxguy.com</td>\n",
              "    </tr>\n",
              "    <tr>\n",
              "      <th>cerulean</th>\n",
              "      <td>legittaxguy@taxguy.com</td>\n",
              "    </tr>\n",
              "  </tbody>\n",
              "</table>\n",
              "</div>"
            ],
            "text/plain": [
              "                           email\n",
              "id                              \n",
              "cerulean  legittaxguy@taxguy.com\n",
              "cerulean  legittaxguy@taxguy.com\n",
              "cerulean  legittaxguy@taxguy.com\n",
              "cerulean  legittaxguy@taxguy.com\n",
              "cerulean  legittaxguy@taxguy.com\n",
              "cerulean  legittaxguy@taxguy.com\n",
              "cerulean  legittaxguy@taxguy.com"
            ]
          },
          "metadata": {
            "tags": []
          },
          "execution_count": 6
        }
      ]
    },
    {
      "cell_type": "markdown",
      "metadata": {
        "id": "_yfu9AEoLXFy",
        "colab_type": "text"
      },
      "source": [
        "# The \"mauve\" cluster represents a suspicious cluster."
      ]
    },
    {
      "cell_type": "code",
      "metadata": {
        "id": "gFggUesILXFz",
        "colab_type": "code",
        "outputId": "c07a1c62-5448-444c-e111-5c22e0d8b776",
        "colab": {
          "base_uri": "https://localhost:8080/",
          "height": 328
        }
      },
      "source": [
        "data.loc['mauve']"
      ],
      "execution_count": 0,
      "outputs": [
        {
          "output_type": "execute_result",
          "data": {
            "text/html": [
              "<div>\n",
              "<style scoped>\n",
              "    .dataframe tbody tr th:only-of-type {\n",
              "        vertical-align: middle;\n",
              "    }\n",
              "\n",
              "    .dataframe tbody tr th {\n",
              "        vertical-align: top;\n",
              "    }\n",
              "\n",
              "    .dataframe thead th {\n",
              "        text-align: right;\n",
              "    }\n",
              "</style>\n",
              "<table border=\"1\" class=\"dataframe\">\n",
              "  <thead>\n",
              "    <tr style=\"text-align: right;\">\n",
              "      <th></th>\n",
              "      <th>email</th>\n",
              "    </tr>\n",
              "    <tr>\n",
              "      <th>id</th>\n",
              "      <th></th>\n",
              "    </tr>\n",
              "  </thead>\n",
              "  <tbody>\n",
              "    <tr>\n",
              "      <th>mauve</th>\n",
              "      <td>josh02@gmail.com</td>\n",
              "    </tr>\n",
              "    <tr>\n",
              "      <th>mauve</th>\n",
              "      <td>josh02@gmail.com</td>\n",
              "    </tr>\n",
              "    <tr>\n",
              "      <th>mauve</th>\n",
              "      <td>josh03@gmail.com</td>\n",
              "    </tr>\n",
              "    <tr>\n",
              "      <th>mauve</th>\n",
              "      <td>josh+taxes@gmail.com</td>\n",
              "    </tr>\n",
              "    <tr>\n",
              "      <th>mauve</th>\n",
              "      <td>jo.sh@gmail.com</td>\n",
              "    </tr>\n",
              "    <tr>\n",
              "      <th>mauve</th>\n",
              "      <td>josh01@gmail.com</td>\n",
              "    </tr>\n",
              "    <tr>\n",
              "      <th>mauve</th>\n",
              "      <td>josh02@gmail.com</td>\n",
              "    </tr>\n",
              "    <tr>\n",
              "      <th>mauve</th>\n",
              "      <td>tom@gmail.com</td>\n",
              "    </tr>\n",
              "  </tbody>\n",
              "</table>\n",
              "</div>"
            ],
            "text/plain": [
              "                      email\n",
              "id                         \n",
              "mauve      josh02@gmail.com\n",
              "mauve      josh02@gmail.com\n",
              "mauve      josh03@gmail.com\n",
              "mauve  josh+taxes@gmail.com\n",
              "mauve       jo.sh@gmail.com\n",
              "mauve      josh01@gmail.com\n",
              "mauve      josh02@gmail.com\n",
              "mauve         tom@gmail.com"
            ]
          },
          "metadata": {
            "tags": []
          },
          "execution_count": 7
        }
      ]
    },
    {
      "cell_type": "markdown",
      "metadata": {
        "id": "tMKstw5cLXF2",
        "colab_type": "text"
      },
      "source": [
        "# In the real world, clusters may be partly mixed. So, the following process seeks to measure the 'impact' of using email obfuscation. \n",
        "\n",
        "The first step is to build a function which normalizes our email strings. \n"
      ]
    },
    {
      "cell_type": "code",
      "metadata": {
        "id": "da2xPmZbLXF2",
        "colab_type": "code",
        "colab": {}
      },
      "source": [
        "import re\n",
        "def normalize_email(email):\n",
        "    \n",
        "    prefix = email.split(sep='@')[0]\n",
        "    suffix = '@' +email.split(sep='@')[1]\n",
        "    \n",
        "    #strip out numbers and dots from the prefix\n",
        "    prefix = re.sub(r'[.0-9]', '', prefix)\n",
        "    \n",
        "    #strip out anything that follows a plus sign\n",
        "    prefix = prefix.split(sep='+')[0]\n",
        "    \n",
        "    #return the reconstituted email address\n",
        "    return prefix+suffix\n",
        "\n"
      ],
      "execution_count": 0,
      "outputs": []
    },
    {
      "cell_type": "markdown",
      "metadata": {
        "id": "eJQ9dhGbLXF4",
        "colab_type": "text"
      },
      "source": [
        "And then apply our function, creating a new column. "
      ]
    },
    {
      "cell_type": "code",
      "metadata": {
        "id": "LGPRT8MRLXF5",
        "colab_type": "code",
        "outputId": "fd9b4579-1210-4d0f-fe77-2dad72ba2c99",
        "colab": {
          "base_uri": "https://localhost:8080/",
          "height": 1088
        }
      },
      "source": [
        "data['email'].apply(normalize_email)"
      ],
      "execution_count": 0,
      "outputs": [
        {
          "output_type": "execute_result",
          "data": {
            "text/plain": [
              "id\n",
              "blue        parturientmontes@molestiedapibusligula.co.uk\n",
              "blue                              sed@infelisNulla.co.uk\n",
              "blue                              nibhDonec@magnased.org\n",
              "blue                     dictumeleifendnunc@sagittis.org\n",
              "blue                      turpis@eleifendvitaeerat.co.uk\n",
              "blue                       auctor@pedeSuspendissedui.org\n",
              "blue                   aliquetlobortis@etnuncQuisque.org\n",
              "blue                            SednequeSed@ametorci.org\n",
              "blue                                     quam@sapien.net\n",
              "blue                        nec@consequatlectussit.co.uk\n",
              "blue                     sagittis@condimentumDonecat.edu\n",
              "blue                                     enimdiam@eu.com\n",
              "blue                                     nisl@lectus.net\n",
              "blue          Seddiamlorem@Pellentesquehabitantmorbi.com\n",
              "cerulean                          legittaxguy@taxguy.com\n",
              "cerulean                          legittaxguy@taxguy.com\n",
              "cerulean                          legittaxguy@taxguy.com\n",
              "cerulean                          legittaxguy@taxguy.com\n",
              "cerulean                          legittaxguy@taxguy.com\n",
              "cerulean                          legittaxguy@taxguy.com\n",
              "cerulean                          legittaxguy@taxguy.com\n",
              "green                                       dis@arcu.com\n",
              "green                                   Curabitur@sit.ca\n",
              "green                         lacusEtiam@facilisis.co.uk\n",
              "green         aliquetvelvulputate@facilisisvitaeorci.org\n",
              "green                          sitamet@lacusMaurisnon.ca\n",
              "green                                  Curabitur@sed.edu\n",
              "green                        Quisque@imperdietornare.com\n",
              "green                  arcuvel@habitantmorbitristique.ca\n",
              "green                    interdum@consequatnecmollis.org\n",
              "                                ...                     \n",
              "red                           purus@estNunclaoreet.co.uk\n",
              "red                          euismodmauris@vitaediam.net\n",
              "violet            mifelisadipiscing@accumsanconvallis.ca\n",
              "violet                                     vel@elita.org\n",
              "violet                  morbitristiquesenectus@neque.edu\n",
              "violet                         nunc@scelerisquemollis.ca\n",
              "violet                                     miDuis@non.ca\n",
              "violet                            Nuncacsem@dictum.co.uk\n",
              "violet                 necurna@orcilacusvestibulum.co.uk\n",
              "violet       CraspellentesqueSed@Quisqueornaretortor.com\n",
              "violet                        velarcuCurabitur@arcuac.ca\n",
              "violet        Etiambibendumfermentum@eratVivamusnisi.com\n",
              "violet                        molestie@rhoncusNullam.net\n",
              "violet                      maurissapien@sodalespurus.ca\n",
              "violet                           euultrices@sagittis.edu\n",
              "violet                      necluctus@maurisMorbinon.org\n",
              "violet                      nectellus@tinciduntcongue.ca\n",
              "violet                  quamPellentesque@Cumsociis.co.uk\n",
              "violet             urnaUttincidunt@velsapienimperdiet.ca\n",
              "yellow                ultriciesdignissimlacus@commodo.ca\n",
              "yellow                auguescelerisque@magnaPraesent.net\n",
              "yellow                         milaciniamattis@acsem.org\n",
              "yellow           adipiscingenimmi@AeneanmassaInteger.edu\n",
              "yellow                     Vivamus@aliquetProinvelit.edu\n",
              "yellow                         velfaucibusid@euismod.edu\n",
              "yellow                          sedturpisnec@Crassed.edu\n",
              "yellow                             id@leoVivamusnibh.edu\n",
              "yellow                   Crasdolordolor@Vestibulum.co.uk\n",
              "yellow                          augueeutellus@Duis.co.uk\n",
              "yellow                                       ipsum@ut.ca\n",
              "Name: email, Length: 115, dtype: object"
            ]
          },
          "metadata": {
            "tags": []
          },
          "execution_count": 9
        }
      ]
    },
    {
      "cell_type": "code",
      "metadata": {
        "id": "bZhKxMIPLXF8",
        "colab_type": "code",
        "colab": {}
      },
      "source": [
        "data['norm_email'] = data['email'].apply(normalize_email)"
      ],
      "execution_count": 0,
      "outputs": []
    },
    {
      "cell_type": "markdown",
      "metadata": {
        "id": "JWcQTIEmLXF-",
        "colab_type": "text"
      },
      "source": [
        "Let's look at our key testing cluster:"
      ]
    },
    {
      "cell_type": "code",
      "metadata": {
        "id": "_w5_aXS_LXF-",
        "colab_type": "code",
        "outputId": "435cc8dc-15f0-4f08-e5f8-15e3be6218e7",
        "colab": {
          "base_uri": "https://localhost:8080/",
          "height": 328
        }
      },
      "source": [
        "data.loc['mauve']"
      ],
      "execution_count": 0,
      "outputs": [
        {
          "output_type": "execute_result",
          "data": {
            "text/html": [
              "<div>\n",
              "<style scoped>\n",
              "    .dataframe tbody tr th:only-of-type {\n",
              "        vertical-align: middle;\n",
              "    }\n",
              "\n",
              "    .dataframe tbody tr th {\n",
              "        vertical-align: top;\n",
              "    }\n",
              "\n",
              "    .dataframe thead th {\n",
              "        text-align: right;\n",
              "    }\n",
              "</style>\n",
              "<table border=\"1\" class=\"dataframe\">\n",
              "  <thead>\n",
              "    <tr style=\"text-align: right;\">\n",
              "      <th></th>\n",
              "      <th>email</th>\n",
              "      <th>norm_email</th>\n",
              "    </tr>\n",
              "    <tr>\n",
              "      <th>id</th>\n",
              "      <th></th>\n",
              "      <th></th>\n",
              "    </tr>\n",
              "  </thead>\n",
              "  <tbody>\n",
              "    <tr>\n",
              "      <th>mauve</th>\n",
              "      <td>josh02@gmail.com</td>\n",
              "      <td>josh@gmail.com</td>\n",
              "    </tr>\n",
              "    <tr>\n",
              "      <th>mauve</th>\n",
              "      <td>josh02@gmail.com</td>\n",
              "      <td>josh@gmail.com</td>\n",
              "    </tr>\n",
              "    <tr>\n",
              "      <th>mauve</th>\n",
              "      <td>josh03@gmail.com</td>\n",
              "      <td>josh@gmail.com</td>\n",
              "    </tr>\n",
              "    <tr>\n",
              "      <th>mauve</th>\n",
              "      <td>josh+taxes@gmail.com</td>\n",
              "      <td>josh@gmail.com</td>\n",
              "    </tr>\n",
              "    <tr>\n",
              "      <th>mauve</th>\n",
              "      <td>jo.sh@gmail.com</td>\n",
              "      <td>josh@gmail.com</td>\n",
              "    </tr>\n",
              "    <tr>\n",
              "      <th>mauve</th>\n",
              "      <td>josh01@gmail.com</td>\n",
              "      <td>josh@gmail.com</td>\n",
              "    </tr>\n",
              "    <tr>\n",
              "      <th>mauve</th>\n",
              "      <td>josh02@gmail.com</td>\n",
              "      <td>josh@gmail.com</td>\n",
              "    </tr>\n",
              "    <tr>\n",
              "      <th>mauve</th>\n",
              "      <td>tom@gmail.com</td>\n",
              "      <td>tom@gmail.com</td>\n",
              "    </tr>\n",
              "  </tbody>\n",
              "</table>\n",
              "</div>"
            ],
            "text/plain": [
              "                      email      norm_email\n",
              "id                                         \n",
              "mauve      josh02@gmail.com  josh@gmail.com\n",
              "mauve      josh02@gmail.com  josh@gmail.com\n",
              "mauve      josh03@gmail.com  josh@gmail.com\n",
              "mauve  josh+taxes@gmail.com  josh@gmail.com\n",
              "mauve       jo.sh@gmail.com  josh@gmail.com\n",
              "mauve      josh01@gmail.com  josh@gmail.com\n",
              "mauve      josh02@gmail.com  josh@gmail.com\n",
              "mauve         tom@gmail.com   tom@gmail.com"
            ]
          },
          "metadata": {
            "tags": []
          },
          "execution_count": 11
        }
      ]
    },
    {
      "cell_type": "markdown",
      "metadata": {
        "id": "1O5qgO_aLXGB",
        "colab_type": "text"
      },
      "source": [
        "And this is a cluster which is more random. (Our legit tax guy cluster is essentially unaffected)"
      ]
    },
    {
      "cell_type": "code",
      "metadata": {
        "id": "B16-4ixSLXGC",
        "colab_type": "code",
        "outputId": "d34bedec-1d5a-47b1-90e1-77abe26e0e74",
        "colab": {
          "base_uri": "https://localhost:8080/",
          "height": 421
        }
      },
      "source": [
        "data.loc['yellow']"
      ],
      "execution_count": 0,
      "outputs": [
        {
          "output_type": "execute_result",
          "data": {
            "text/html": [
              "<div>\n",
              "<style scoped>\n",
              "    .dataframe tbody tr th:only-of-type {\n",
              "        vertical-align: middle;\n",
              "    }\n",
              "\n",
              "    .dataframe tbody tr th {\n",
              "        vertical-align: top;\n",
              "    }\n",
              "\n",
              "    .dataframe thead th {\n",
              "        text-align: right;\n",
              "    }\n",
              "</style>\n",
              "<table border=\"1\" class=\"dataframe\">\n",
              "  <thead>\n",
              "    <tr style=\"text-align: right;\">\n",
              "      <th></th>\n",
              "      <th>email</th>\n",
              "      <th>norm_email</th>\n",
              "    </tr>\n",
              "    <tr>\n",
              "      <th>id</th>\n",
              "      <th></th>\n",
              "      <th></th>\n",
              "    </tr>\n",
              "  </thead>\n",
              "  <tbody>\n",
              "    <tr>\n",
              "      <th>yellow</th>\n",
              "      <td>ultricies.dignissim.lacus@commodo.ca</td>\n",
              "      <td>ultriciesdignissimlacus@commodo.ca</td>\n",
              "    </tr>\n",
              "    <tr>\n",
              "      <th>yellow</th>\n",
              "      <td>augue.scelerisque@magnaPraesent.net</td>\n",
              "      <td>auguescelerisque@magnaPraesent.net</td>\n",
              "    </tr>\n",
              "    <tr>\n",
              "      <th>yellow</th>\n",
              "      <td>mi.lacinia.mattis@acsem.org</td>\n",
              "      <td>milaciniamattis@acsem.org</td>\n",
              "    </tr>\n",
              "    <tr>\n",
              "      <th>yellow</th>\n",
              "      <td>adipiscing.enim.mi@AeneanmassaInteger.edu</td>\n",
              "      <td>adipiscingenimmi@AeneanmassaInteger.edu</td>\n",
              "    </tr>\n",
              "    <tr>\n",
              "      <th>yellow</th>\n",
              "      <td>Vivamus@aliquetProinvelit.edu</td>\n",
              "      <td>Vivamus@aliquetProinvelit.edu</td>\n",
              "    </tr>\n",
              "    <tr>\n",
              "      <th>yellow</th>\n",
              "      <td>vel.faucibus.id@euismod.edu</td>\n",
              "      <td>velfaucibusid@euismod.edu</td>\n",
              "    </tr>\n",
              "    <tr>\n",
              "      <th>yellow</th>\n",
              "      <td>sed.turpis.nec@Crassed.edu</td>\n",
              "      <td>sedturpisnec@Crassed.edu</td>\n",
              "    </tr>\n",
              "    <tr>\n",
              "      <th>yellow</th>\n",
              "      <td>id@leoVivamusnibh.edu</td>\n",
              "      <td>id@leoVivamusnibh.edu</td>\n",
              "    </tr>\n",
              "    <tr>\n",
              "      <th>yellow</th>\n",
              "      <td>Cras.dolor.dolor@Vestibulum.co.uk</td>\n",
              "      <td>Crasdolordolor@Vestibulum.co.uk</td>\n",
              "    </tr>\n",
              "    <tr>\n",
              "      <th>yellow</th>\n",
              "      <td>augue.eu.tellus@Duis.co.uk</td>\n",
              "      <td>augueeutellus@Duis.co.uk</td>\n",
              "    </tr>\n",
              "    <tr>\n",
              "      <th>yellow</th>\n",
              "      <td>ipsum@ut.ca</td>\n",
              "      <td>ipsum@ut.ca</td>\n",
              "    </tr>\n",
              "  </tbody>\n",
              "</table>\n",
              "</div>"
            ],
            "text/plain": [
              "                                            email                               norm_email\n",
              "id                                                                                        \n",
              "yellow       ultricies.dignissim.lacus@commodo.ca       ultriciesdignissimlacus@commodo.ca\n",
              "yellow        augue.scelerisque@magnaPraesent.net       auguescelerisque@magnaPraesent.net\n",
              "yellow                mi.lacinia.mattis@acsem.org                milaciniamattis@acsem.org\n",
              "yellow  adipiscing.enim.mi@AeneanmassaInteger.edu  adipiscingenimmi@AeneanmassaInteger.edu\n",
              "yellow              Vivamus@aliquetProinvelit.edu            Vivamus@aliquetProinvelit.edu\n",
              "yellow                vel.faucibus.id@euismod.edu                velfaucibusid@euismod.edu\n",
              "yellow                 sed.turpis.nec@Crassed.edu                 sedturpisnec@Crassed.edu\n",
              "yellow                      id@leoVivamusnibh.edu                    id@leoVivamusnibh.edu\n",
              "yellow          Cras.dolor.dolor@Vestibulum.co.uk          Crasdolordolor@Vestibulum.co.uk\n",
              "yellow                 augue.eu.tellus@Duis.co.uk                 augueeutellus@Duis.co.uk\n",
              "yellow                                ipsum@ut.ca                              ipsum@ut.ca"
            ]
          },
          "metadata": {
            "tags": []
          },
          "execution_count": 12
        }
      ]
    },
    {
      "cell_type": "markdown",
      "metadata": {
        "id": "LlGYSBJjLXGF",
        "colab_type": "raw"
      },
      "source": [
        "This is where we begin to use the formula for information entropy. The goal here is to determine whether the cluster is 'artificially disorganized'. \n",
        "\n",
        "\n",
        "In our 'mauve' cluster, we can see that there is a common actor using specific techniques to either avoid detection (or admittedly, for legitimate business reasons, though this seems rare). \n",
        "\n"
      ]
    },
    {
      "cell_type": "code",
      "metadata": {
        "id": "99j7YxHRLXGG",
        "colab_type": "code",
        "colab": {}
      },
      "source": [
        "data.reset_index()\n",
        "\n",
        "#Probability of a given email address occurring in the cluster within the observed data\n",
        "obs_P = (data.groupby(['id','email']).size()/data.groupby(['id']).size()).rename('P').reset_index()\n",
        "\n",
        "\n",
        "#Probability of a given email address occurring in the cluster within the normalized dataP\n",
        "norm_P =(data.groupby(['id','norm_email']).size()/data.groupby(['id']).size()).rename('P').reset_index()\n",
        "\n"
      ],
      "execution_count": 0,
      "outputs": []
    },
    {
      "cell_type": "code",
      "metadata": {
        "id": "YgM_ykSfLXGJ",
        "colab_type": "code",
        "colab": {}
      },
      "source": [
        "obs_P['log_P'] = np.log2(obs_P['P']) \n",
        "obs_P['-P_log_P'] = -(obs_P['P'] * obs_P['log_P'])\n"
      ],
      "execution_count": 0,
      "outputs": []
    },
    {
      "cell_type": "code",
      "metadata": {
        "id": "ua84EJfLLqNG",
        "colab_type": "code",
        "colab": {}
      },
      "source": [
        "\n",
        "norm_P['log_P'] = np.log2(norm_P['P']) \n",
        "norm_P['-P_log_P'] = -(norm_P['P'] * norm_P['log_P'])"
      ],
      "execution_count": 0,
      "outputs": []
    },
    {
      "cell_type": "code",
      "metadata": {
        "id": "ssUZR10wLXGM",
        "colab_type": "code",
        "outputId": "141a23e3-3d7b-4dd2-ee14-99b03909a49a",
        "colab": {
          "base_uri": "https://localhost:8080/",
          "height": 359
        }
      },
      "source": [
        "observed_entropy = obs_P.groupby(['id']).agg('sum')\n",
        "observed_entropy.sort_values('-P_log_P',ascending=False)"
      ],
      "execution_count": 0,
      "outputs": [
        {
          "output_type": "execute_result",
          "data": {
            "text/html": [
              "<div>\n",
              "<style scoped>\n",
              "    .dataframe tbody tr th:only-of-type {\n",
              "        vertical-align: middle;\n",
              "    }\n",
              "\n",
              "    .dataframe tbody tr th {\n",
              "        vertical-align: top;\n",
              "    }\n",
              "\n",
              "    .dataframe thead th {\n",
              "        text-align: right;\n",
              "    }\n",
              "</style>\n",
              "<table border=\"1\" class=\"dataframe\">\n",
              "  <thead>\n",
              "    <tr style=\"text-align: right;\">\n",
              "      <th></th>\n",
              "      <th>P</th>\n",
              "      <th>log_P</th>\n",
              "      <th>-P_log_P</th>\n",
              "    </tr>\n",
              "    <tr>\n",
              "      <th>id</th>\n",
              "      <th></th>\n",
              "      <th></th>\n",
              "      <th></th>\n",
              "    </tr>\n",
              "  </thead>\n",
              "  <tbody>\n",
              "    <tr>\n",
              "      <th>red</th>\n",
              "      <td>1.0</td>\n",
              "      <td>-69.486868</td>\n",
              "      <td>4.087463</td>\n",
              "    </tr>\n",
              "    <tr>\n",
              "      <th>violet</th>\n",
              "      <td>1.0</td>\n",
              "      <td>-69.486868</td>\n",
              "      <td>4.087463</td>\n",
              "    </tr>\n",
              "    <tr>\n",
              "      <th>orange</th>\n",
              "      <td>1.0</td>\n",
              "      <td>-64.000000</td>\n",
              "      <td>4.000000</td>\n",
              "    </tr>\n",
              "    <tr>\n",
              "      <th>blue</th>\n",
              "      <td>1.0</td>\n",
              "      <td>-53.302969</td>\n",
              "      <td>3.807355</td>\n",
              "    </tr>\n",
              "    <tr>\n",
              "      <th>green</th>\n",
              "      <td>1.0</td>\n",
              "      <td>-53.302969</td>\n",
              "      <td>3.807355</td>\n",
              "    </tr>\n",
              "    <tr>\n",
              "      <th>indigo</th>\n",
              "      <td>1.0</td>\n",
              "      <td>-38.053748</td>\n",
              "      <td>3.459432</td>\n",
              "    </tr>\n",
              "    <tr>\n",
              "      <th>yellow</th>\n",
              "      <td>1.0</td>\n",
              "      <td>-38.053748</td>\n",
              "      <td>3.459432</td>\n",
              "    </tr>\n",
              "    <tr>\n",
              "      <th>mauve</th>\n",
              "      <td>1.0</td>\n",
              "      <td>-16.415037</td>\n",
              "      <td>2.405639</td>\n",
              "    </tr>\n",
              "    <tr>\n",
              "      <th>cerulean</th>\n",
              "      <td>1.0</td>\n",
              "      <td>0.000000</td>\n",
              "      <td>0.000000</td>\n",
              "    </tr>\n",
              "  </tbody>\n",
              "</table>\n",
              "</div>"
            ],
            "text/plain": [
              "            P      log_P  -P_log_P\n",
              "id                                \n",
              "red       1.0 -69.486868  4.087463\n",
              "violet    1.0 -69.486868  4.087463\n",
              "orange    1.0 -64.000000  4.000000\n",
              "blue      1.0 -53.302969  3.807355\n",
              "green     1.0 -53.302969  3.807355\n",
              "indigo    1.0 -38.053748  3.459432\n",
              "yellow    1.0 -38.053748  3.459432\n",
              "mauve     1.0 -16.415037  2.405639\n",
              "cerulean  1.0   0.000000  0.000000"
            ]
          },
          "metadata": {
            "tags": []
          },
          "execution_count": 19
        }
      ]
    },
    {
      "cell_type": "code",
      "metadata": {
        "id": "3Eol2mUMM8JV",
        "colab_type": "code",
        "outputId": "fdd061d8-7536-4c2a-a40f-48f3507633b7",
        "colab": {
          "base_uri": "https://localhost:8080/",
          "height": 359
        }
      },
      "source": [
        "normalized_entropy = norm_P.groupby(['id']).agg('sum')\n",
        "normalized_entropy.sort_values('-P_log_P',ascending=False)"
      ],
      "execution_count": 0,
      "outputs": [
        {
          "output_type": "execute_result",
          "data": {
            "text/html": [
              "<div>\n",
              "<style scoped>\n",
              "    .dataframe tbody tr th:only-of-type {\n",
              "        vertical-align: middle;\n",
              "    }\n",
              "\n",
              "    .dataframe tbody tr th {\n",
              "        vertical-align: top;\n",
              "    }\n",
              "\n",
              "    .dataframe thead th {\n",
              "        text-align: right;\n",
              "    }\n",
              "</style>\n",
              "<table border=\"1\" class=\"dataframe\">\n",
              "  <thead>\n",
              "    <tr style=\"text-align: right;\">\n",
              "      <th></th>\n",
              "      <th>P</th>\n",
              "      <th>log_P</th>\n",
              "      <th>-P_log_P</th>\n",
              "    </tr>\n",
              "    <tr>\n",
              "      <th>id</th>\n",
              "      <th></th>\n",
              "      <th></th>\n",
              "      <th></th>\n",
              "    </tr>\n",
              "  </thead>\n",
              "  <tbody>\n",
              "    <tr>\n",
              "      <th>red</th>\n",
              "      <td>1.0</td>\n",
              "      <td>-69.486868</td>\n",
              "      <td>4.087463</td>\n",
              "    </tr>\n",
              "    <tr>\n",
              "      <th>violet</th>\n",
              "      <td>1.0</td>\n",
              "      <td>-69.486868</td>\n",
              "      <td>4.087463</td>\n",
              "    </tr>\n",
              "    <tr>\n",
              "      <th>orange</th>\n",
              "      <td>1.0</td>\n",
              "      <td>-64.000000</td>\n",
              "      <td>4.000000</td>\n",
              "    </tr>\n",
              "    <tr>\n",
              "      <th>blue</th>\n",
              "      <td>1.0</td>\n",
              "      <td>-53.302969</td>\n",
              "      <td>3.807355</td>\n",
              "    </tr>\n",
              "    <tr>\n",
              "      <th>green</th>\n",
              "      <td>1.0</td>\n",
              "      <td>-53.302969</td>\n",
              "      <td>3.807355</td>\n",
              "    </tr>\n",
              "    <tr>\n",
              "      <th>indigo</th>\n",
              "      <td>1.0</td>\n",
              "      <td>-38.053748</td>\n",
              "      <td>3.459432</td>\n",
              "    </tr>\n",
              "    <tr>\n",
              "      <th>yellow</th>\n",
              "      <td>1.0</td>\n",
              "      <td>-38.053748</td>\n",
              "      <td>3.459432</td>\n",
              "    </tr>\n",
              "    <tr>\n",
              "      <th>mauve</th>\n",
              "      <td>1.0</td>\n",
              "      <td>-3.192645</td>\n",
              "      <td>0.543564</td>\n",
              "    </tr>\n",
              "    <tr>\n",
              "      <th>cerulean</th>\n",
              "      <td>1.0</td>\n",
              "      <td>0.000000</td>\n",
              "      <td>0.000000</td>\n",
              "    </tr>\n",
              "  </tbody>\n",
              "</table>\n",
              "</div>"
            ],
            "text/plain": [
              "            P      log_P  -P_log_P\n",
              "id                                \n",
              "red       1.0 -69.486868  4.087463\n",
              "violet    1.0 -69.486868  4.087463\n",
              "orange    1.0 -64.000000  4.000000\n",
              "blue      1.0 -53.302969  3.807355\n",
              "green     1.0 -53.302969  3.807355\n",
              "indigo    1.0 -38.053748  3.459432\n",
              "yellow    1.0 -38.053748  3.459432\n",
              "mauve     1.0  -3.192645  0.543564\n",
              "cerulean  1.0   0.000000  0.000000"
            ]
          },
          "metadata": {
            "tags": []
          },
          "execution_count": 22
        }
      ]
    },
    {
      "cell_type": "code",
      "metadata": {
        "id": "C7E6UlrGNcgu",
        "colab_type": "code",
        "colab": {}
      },
      "source": [
        "entropy_dif = observed_entropy['-P_log_P'] - normalized_entropy['-P_log_P'] "
      ],
      "execution_count": 0,
      "outputs": []
    },
    {
      "cell_type": "code",
      "metadata": {
        "id": "1px8MSv9NwzY",
        "colab_type": "code",
        "outputId": "47db8ebc-e328-44e1-ba49-a844ab1bcc09",
        "colab": {
          "base_uri": "https://localhost:8080/",
          "height": 204
        }
      },
      "source": [
        "entropy_dif.sort_values(ascending=False)"
      ],
      "execution_count": 0,
      "outputs": [
        {
          "output_type": "execute_result",
          "data": {
            "text/plain": [
              "id\n",
              "mauve       1.862075\n",
              "yellow      0.000000\n",
              "violet      0.000000\n",
              "red         0.000000\n",
              "orange      0.000000\n",
              "indigo      0.000000\n",
              "green       0.000000\n",
              "cerulean    0.000000\n",
              "blue        0.000000\n",
              "Name: -P_log_P, dtype: float64"
            ]
          },
          "metadata": {
            "tags": []
          },
          "execution_count": 27
        }
      ]
    },
    {
      "cell_type": "code",
      "metadata": {
        "id": "p9j0T85tN8Vi",
        "colab_type": "code",
        "outputId": "3144f682-38bb-4cea-b7d3-1ebca560edc6",
        "colab": {
          "base_uri": "https://localhost:8080/",
          "height": 328
        }
      },
      "source": [
        "data.loc['mauve']"
      ],
      "execution_count": 0,
      "outputs": [
        {
          "output_type": "execute_result",
          "data": {
            "text/html": [
              "<div>\n",
              "<style scoped>\n",
              "    .dataframe tbody tr th:only-of-type {\n",
              "        vertical-align: middle;\n",
              "    }\n",
              "\n",
              "    .dataframe tbody tr th {\n",
              "        vertical-align: top;\n",
              "    }\n",
              "\n",
              "    .dataframe thead th {\n",
              "        text-align: right;\n",
              "    }\n",
              "</style>\n",
              "<table border=\"1\" class=\"dataframe\">\n",
              "  <thead>\n",
              "    <tr style=\"text-align: right;\">\n",
              "      <th></th>\n",
              "      <th>email</th>\n",
              "      <th>norm_email</th>\n",
              "    </tr>\n",
              "    <tr>\n",
              "      <th>id</th>\n",
              "      <th></th>\n",
              "      <th></th>\n",
              "    </tr>\n",
              "  </thead>\n",
              "  <tbody>\n",
              "    <tr>\n",
              "      <th>mauve</th>\n",
              "      <td>josh02@gmail.com</td>\n",
              "      <td>josh@gmail.com</td>\n",
              "    </tr>\n",
              "    <tr>\n",
              "      <th>mauve</th>\n",
              "      <td>josh02@gmail.com</td>\n",
              "      <td>josh@gmail.com</td>\n",
              "    </tr>\n",
              "    <tr>\n",
              "      <th>mauve</th>\n",
              "      <td>josh03@gmail.com</td>\n",
              "      <td>josh@gmail.com</td>\n",
              "    </tr>\n",
              "    <tr>\n",
              "      <th>mauve</th>\n",
              "      <td>josh+taxes@gmail.com</td>\n",
              "      <td>josh@gmail.com</td>\n",
              "    </tr>\n",
              "    <tr>\n",
              "      <th>mauve</th>\n",
              "      <td>jo.sh@gmail.com</td>\n",
              "      <td>josh@gmail.com</td>\n",
              "    </tr>\n",
              "    <tr>\n",
              "      <th>mauve</th>\n",
              "      <td>josh01@gmail.com</td>\n",
              "      <td>josh@gmail.com</td>\n",
              "    </tr>\n",
              "    <tr>\n",
              "      <th>mauve</th>\n",
              "      <td>josh02@gmail.com</td>\n",
              "      <td>josh@gmail.com</td>\n",
              "    </tr>\n",
              "    <tr>\n",
              "      <th>mauve</th>\n",
              "      <td>tom@gmail.com</td>\n",
              "      <td>tom@gmail.com</td>\n",
              "    </tr>\n",
              "  </tbody>\n",
              "</table>\n",
              "</div>"
            ],
            "text/plain": [
              "                      email      norm_email\n",
              "id                                         \n",
              "mauve      josh02@gmail.com  josh@gmail.com\n",
              "mauve      josh02@gmail.com  josh@gmail.com\n",
              "mauve      josh03@gmail.com  josh@gmail.com\n",
              "mauve  josh+taxes@gmail.com  josh@gmail.com\n",
              "mauve       jo.sh@gmail.com  josh@gmail.com\n",
              "mauve      josh01@gmail.com  josh@gmail.com\n",
              "mauve      josh02@gmail.com  josh@gmail.com\n",
              "mauve         tom@gmail.com   tom@gmail.com"
            ]
          },
          "metadata": {
            "tags": []
          },
          "execution_count": 28
        }
      ]
    },
    {
      "cell_type": "code",
      "metadata": {
        "id": "7IOdhekwODpn",
        "colab_type": "code",
        "colab": {}
      },
      "source": [
        ""
      ],
      "execution_count": 0,
      "outputs": []
    }
  ]
}